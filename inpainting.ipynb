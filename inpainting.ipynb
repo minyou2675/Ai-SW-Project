{
  "nbformat": 4,
  "nbformat_minor": 0,
  "metadata": {
    "colab": {
      "name": "inpainting.ipynb",
      "provenance": [],
      "authorship_tag": "ABX9TyNFVA7pGIGrB42qf98iH9hQ",
      "include_colab_link": true
    },
    "kernelspec": {
      "name": "python3",
      "display_name": "Python 3"
    },
    "language_info": {
      "name": "python"
    }
  },
  "cells": [
    {
      "cell_type": "markdown",
      "metadata": {
        "id": "view-in-github",
        "colab_type": "text"
      },
      "source": [
        "<a href=\"https://colab.research.google.com/github/minyou2675/Ai-SW-Project/blob/main/inpainting.ipynb\" target=\"_parent\"><img src=\"https://colab.research.google.com/assets/colab-badge.svg\" alt=\"Open In Colab\"/></a>"
      ]
    },
    {
      "cell_type": "code",
      "execution_count": 1,
      "metadata": {
        "colab": {
          "base_uri": "https://localhost:8080/"
        },
        "id": "KyY4__2xveIS",
        "outputId": "1fdc1df5-322b-447b-c76b-0230d8baab6e"
      },
      "outputs": [
        {
          "output_type": "stream",
          "name": "stdout",
          "text": [
            "Cloning into 'generative_inpainting'...\n",
            "remote: Enumerating objects: 193, done.\u001b[K\n",
            "remote: Total 193 (delta 0), reused 0 (delta 0), pack-reused 193\u001b[K\n",
            "Receiving objects: 100% (193/193), 13.77 MiB | 17.58 MiB/s, done.\n",
            "Resolving deltas: 100% (63/63), done.\n"
          ]
        }
      ],
      "source": [
        "!git clone https://github.com/JiahuiYu/generative_inpainting.git"
      ]
    },
    {
      "cell_type": "code",
      "source": [
        "!pip install git+https://github.com/JiahuiYu/neuralgym"
      ],
      "metadata": {
        "colab": {
          "base_uri": "https://localhost:8080/"
        },
        "id": "Bxy6J6gvviu8",
        "outputId": "b1a43332-655b-43c0-d35b-c3bbcabec073"
      },
      "execution_count": 2,
      "outputs": [
        {
          "output_type": "stream",
          "name": "stdout",
          "text": [
            "Looking in indexes: https://pypi.org/simple, https://us-python.pkg.dev/colab-wheels/public/simple/\n",
            "Collecting git+https://github.com/JiahuiYu/neuralgym\n",
            "  Cloning https://github.com/JiahuiYu/neuralgym to /tmp/pip-req-build-ls5kuu3q\n",
            "  Running command git clone -q https://github.com/JiahuiYu/neuralgym /tmp/pip-req-build-ls5kuu3q\n",
            "Building wheels for collected packages: neuralgym\n",
            "  Building wheel for neuralgym (setup.py) ... \u001b[?25l\u001b[?25hdone\n",
            "  Created wheel for neuralgym: filename=neuralgym-0.0.1-py3-none-any.whl size=40442 sha256=603f55ef34e756c9eea0bdc44c0ce0a455b6d65a981ac3a2ae315ea1a7ab96af\n",
            "  Stored in directory: /tmp/pip-ephem-wheel-cache-r20tc2va/wheels/bf/3a/34/026a730c199a8c4cb5da3c052c71801eaf6618c4771d7faab2\n",
            "Successfully built neuralgym\n",
            "Installing collected packages: neuralgym\n",
            "Successfully installed neuralgym-0.0.1\n"
          ]
        }
      ]
    },
    {
      "cell_type": "code",
      "source": [
        "!pip uninstall tensorflow"
      ],
      "metadata": {
        "colab": {
          "base_uri": "https://localhost:8080/"
        },
        "id": "IX2e3jG5vn8Z",
        "outputId": "057f644b-6b29-4201-99cb-e4ada705308f"
      },
      "execution_count": 3,
      "outputs": [
        {
          "output_type": "stream",
          "name": "stdout",
          "text": [
            "Found existing installation: tensorflow 2.8.2+zzzcolab20220719082949\n",
            "Uninstalling tensorflow-2.8.2+zzzcolab20220719082949:\n",
            "  Would remove:\n",
            "    /usr/local/bin/estimator_ckpt_converter\n",
            "    /usr/local/bin/import_pb_to_tensorboard\n",
            "    /usr/local/bin/saved_model_cli\n",
            "    /usr/local/bin/tensorboard\n",
            "    /usr/local/bin/tf_upgrade_v2\n",
            "    /usr/local/bin/tflite_convert\n",
            "    /usr/local/bin/toco\n",
            "    /usr/local/bin/toco_from_protos\n",
            "    /usr/local/lib/python3.7/dist-packages/tensorflow-2.8.2+zzzcolab20220719082949.dist-info/*\n",
            "    /usr/local/lib/python3.7/dist-packages/tensorflow/*\n",
            "Proceed (y/n)? y\n",
            "  Successfully uninstalled tensorflow-2.8.2+zzzcolab20220719082949\n"
          ]
        }
      ]
    },
    {
      "cell_type": "code",
      "source": [
        "!pip install tensorflow==1.15"
      ],
      "metadata": {
        "colab": {
          "base_uri": "https://localhost:8080/"
        },
        "id": "ErFpoILfvxip",
        "outputId": "b3d8c4b3-8314-40cf-8b91-8416bb4d8e0a"
      },
      "execution_count": 4,
      "outputs": [
        {
          "output_type": "stream",
          "name": "stdout",
          "text": [
            "Looking in indexes: https://pypi.org/simple, https://us-python.pkg.dev/colab-wheels/public/simple/\n",
            "Collecting tensorflow==1.15\n",
            "  Downloading tensorflow-1.15.0-cp37-cp37m-manylinux2010_x86_64.whl (412.3 MB)\n",
            "\u001b[K     |████████████████████████████████| 412.3 MB 23 kB/s \n",
            "\u001b[?25hCollecting gast==0.2.2\n",
            "  Downloading gast-0.2.2.tar.gz (10 kB)\n",
            "Requirement already satisfied: opt-einsum>=2.3.2 in /usr/local/lib/python3.7/dist-packages (from tensorflow==1.15) (3.3.0)\n",
            "Requirement already satisfied: six>=1.10.0 in /usr/local/lib/python3.7/dist-packages (from tensorflow==1.15) (1.15.0)\n",
            "Requirement already satisfied: grpcio>=1.8.6 in /usr/local/lib/python3.7/dist-packages (from tensorflow==1.15) (1.47.0)\n",
            "Collecting keras-applications>=1.0.8\n",
            "  Downloading Keras_Applications-1.0.8-py3-none-any.whl (50 kB)\n",
            "\u001b[K     |████████████████████████████████| 50 kB 6.7 MB/s \n",
            "\u001b[?25hRequirement already satisfied: keras-preprocessing>=1.0.5 in /usr/local/lib/python3.7/dist-packages (from tensorflow==1.15) (1.1.2)\n",
            "Requirement already satisfied: astor>=0.6.0 in /usr/local/lib/python3.7/dist-packages (from tensorflow==1.15) (0.8.1)\n",
            "Requirement already satisfied: google-pasta>=0.1.6 in /usr/local/lib/python3.7/dist-packages (from tensorflow==1.15) (0.2.0)\n",
            "Requirement already satisfied: numpy<2.0,>=1.16.0 in /usr/local/lib/python3.7/dist-packages (from tensorflow==1.15) (1.21.6)\n",
            "Collecting tensorboard<1.16.0,>=1.15.0\n",
            "  Downloading tensorboard-1.15.0-py3-none-any.whl (3.8 MB)\n",
            "\u001b[K     |████████████████████████████████| 3.8 MB 23.2 MB/s \n",
            "\u001b[?25hRequirement already satisfied: wrapt>=1.11.1 in /usr/local/lib/python3.7/dist-packages (from tensorflow==1.15) (1.14.1)\n",
            "Requirement already satisfied: protobuf>=3.6.1 in /usr/local/lib/python3.7/dist-packages (from tensorflow==1.15) (3.17.3)\n",
            "Collecting tensorflow-estimator==1.15.1\n",
            "  Downloading tensorflow_estimator-1.15.1-py2.py3-none-any.whl (503 kB)\n",
            "\u001b[K     |████████████████████████████████| 503 kB 45.5 MB/s \n",
            "\u001b[?25hRequirement already satisfied: absl-py>=0.7.0 in /usr/local/lib/python3.7/dist-packages (from tensorflow==1.15) (1.2.0)\n",
            "Requirement already satisfied: wheel>=0.26 in /usr/local/lib/python3.7/dist-packages (from tensorflow==1.15) (0.37.1)\n",
            "Requirement already satisfied: termcolor>=1.1.0 in /usr/local/lib/python3.7/dist-packages (from tensorflow==1.15) (1.1.0)\n",
            "Requirement already satisfied: h5py in /usr/local/lib/python3.7/dist-packages (from keras-applications>=1.0.8->tensorflow==1.15) (3.1.0)\n",
            "Requirement already satisfied: markdown>=2.6.8 in /usr/local/lib/python3.7/dist-packages (from tensorboard<1.16.0,>=1.15.0->tensorflow==1.15) (3.4.1)\n",
            "Requirement already satisfied: werkzeug>=0.11.15 in /usr/local/lib/python3.7/dist-packages (from tensorboard<1.16.0,>=1.15.0->tensorflow==1.15) (1.0.1)\n",
            "Requirement already satisfied: setuptools>=41.0.0 in /usr/local/lib/python3.7/dist-packages (from tensorboard<1.16.0,>=1.15.0->tensorflow==1.15) (57.4.0)\n",
            "Requirement already satisfied: importlib-metadata>=4.4 in /usr/local/lib/python3.7/dist-packages (from markdown>=2.6.8->tensorboard<1.16.0,>=1.15.0->tensorflow==1.15) (4.12.0)\n",
            "Requirement already satisfied: typing-extensions>=3.6.4 in /usr/local/lib/python3.7/dist-packages (from importlib-metadata>=4.4->markdown>=2.6.8->tensorboard<1.16.0,>=1.15.0->tensorflow==1.15) (4.1.1)\n",
            "Requirement already satisfied: zipp>=0.5 in /usr/local/lib/python3.7/dist-packages (from importlib-metadata>=4.4->markdown>=2.6.8->tensorboard<1.16.0,>=1.15.0->tensorflow==1.15) (3.8.1)\n",
            "Requirement already satisfied: cached-property in /usr/local/lib/python3.7/dist-packages (from h5py->keras-applications>=1.0.8->tensorflow==1.15) (1.5.2)\n",
            "Building wheels for collected packages: gast\n",
            "  Building wheel for gast (setup.py) ... \u001b[?25l\u001b[?25hdone\n",
            "  Created wheel for gast: filename=gast-0.2.2-py3-none-any.whl size=7554 sha256=71a67d26f2227c23a78e3852ce53a27280800d4c3d3c1537217282b709e39bfd\n",
            "  Stored in directory: /root/.cache/pip/wheels/21/7f/02/420f32a803f7d0967b48dd823da3f558c5166991bfd204eef3\n",
            "Successfully built gast\n",
            "Installing collected packages: tensorflow-estimator, tensorboard, keras-applications, gast, tensorflow\n",
            "  Attempting uninstall: tensorflow-estimator\n",
            "    Found existing installation: tensorflow-estimator 2.8.0\n",
            "    Uninstalling tensorflow-estimator-2.8.0:\n",
            "      Successfully uninstalled tensorflow-estimator-2.8.0\n",
            "  Attempting uninstall: tensorboard\n",
            "    Found existing installation: tensorboard 2.8.0\n",
            "    Uninstalling tensorboard-2.8.0:\n",
            "      Successfully uninstalled tensorboard-2.8.0\n",
            "  Attempting uninstall: gast\n",
            "    Found existing installation: gast 0.5.3\n",
            "    Uninstalling gast-0.5.3:\n",
            "      Successfully uninstalled gast-0.5.3\n",
            "\u001b[31mERROR: pip's dependency resolver does not currently take into account all the packages that are installed. This behaviour is the source of the following dependency conflicts.\n",
            "tensorflow-probability 0.16.0 requires gast>=0.3.2, but you have gast 0.2.2 which is incompatible.\n",
            "kapre 0.3.7 requires tensorflow>=2.0.0, but you have tensorflow 1.15.0 which is incompatible.\u001b[0m\n",
            "Successfully installed gast-0.2.2 keras-applications-1.0.8 tensorboard-1.15.0 tensorflow-1.15.0 tensorflow-estimator-1.15.1\n"
          ]
        }
      ]
    },
    {
      "cell_type": "markdown",
      "source": [
        ""
      ],
      "metadata": {
        "id": "16eN9pbIwPZb"
      }
    },
    {
      "cell_type": "code",
      "source": [
        "%cd /content/generative_inpainting\n",
        "!python train.py"
      ],
      "metadata": {
        "colab": {
          "base_uri": "https://localhost:8080/"
        },
        "id": "W0oY3UhuwLHu",
        "outputId": "bc416b8f-48e0-49d7-f78d-097fef5e385e"
      },
      "execution_count": 5,
      "outputs": [
        {
          "output_type": "stream",
          "name": "stdout",
          "text": [
            "/content/generative_inpainting\n",
            "WARNING:tensorflow:\n",
            "The TensorFlow contrib module will not be included in TensorFlow 2.0.\n",
            "For more information, please see:\n",
            "  * https://github.com/tensorflow/community/blob/master/rfcs/20180907-contrib-sunset.md\n",
            "  * https://github.com/tensorflow/addons\n",
            "  * https://github.com/tensorflow/io (for I/O related ops)\n",
            "If you depend on functionality not listed there, please file an issue.\n",
            "\n",
            "WARNING:tensorflow:From /usr/local/lib/python3.7/dist-packages/neuralgym/ops/layers.py:142: The name tf.image.resize_bilinear is deprecated. Please use tf.compat.v1.image.resize_bilinear instead.\n",
            "\n",
            "WARNING:tensorflow:From /usr/local/lib/python3.7/dist-packages/neuralgym/callbacks/npz_model_loader.py:31: The name tf.get_variable_scope is deprecated. Please use tf.compat.v1.get_variable_scope instead.\n",
            "\n",
            "WARNING:tensorflow:From /usr/local/lib/python3.7/dist-packages/neuralgym/ops/gan_ops.py:138: The name tf.layers.Conv2D is deprecated. Please use tf.compat.v1.layers.Conv2D instead.\n",
            "\n",
            "---------------------------------- APP CONFIG ----------------------------------\n",
            "num_gpus_per_job: 1\n",
            "num_cpus_per_job: 4\n",
            "num_hosts_per_job: 1\n",
            "memory_per_job: 32\n",
            "gpu_type: nvidia-tesla-p100\n",
            "name: places2_gated_conv_v100\n",
            "model_restore: \n",
            "dataset: celebahq\n",
            "random_crop: False\n",
            "val: False\n",
            "log_dir: logs/full_model_celeba_hq_256\n",
            "gan: sngan\n",
            "gan_loss_alpha: 1\n",
            "gan_with_mask: True\n",
            "discounted_mask: True\n",
            "random_seed: False\n",
            "padding: SAME\n",
            "train_spe: 4000\n",
            "max_iters: 100000000\n",
            "viz_max_out: 10\n",
            "val_psteps: 2000\n",
            "data_flist: \n",
            "  celebahq: ['data/celeba_hq/train_shuffled.flist', 'data/celeba_hq/validation_static_view.flist']\n",
            "  celeba: ['data/celeba/train_shuffled.flist', 'data/celeba/validation_static_view.flist']\n",
            "  places2: ['data/places2/train_shuffled.flist', 'data/places2/validation_static_view.flist']\n",
            "  imagenet: ['data/imagenet/train_shuffled.flist', 'data/imagenet/validation_static_view.flist']\n",
            "static_view_size: 30\n",
            "img_shapes: [256, 256, 3]\n",
            "height: 128\n",
            "width: 128\n",
            "max_delta_height: 32\n",
            "max_delta_width: 32\n",
            "batch_size: 16\n",
            "vertical_margin: 0\n",
            "horizontal_margin: 0\n",
            "ae_loss: True\n",
            "l1_loss: True\n",
            "l1_loss_alpha: 1.0\n",
            "guided: False\n",
            "edge_threshold: 0.6\n",
            "--------------------------------------------------------------------------------\n",
            "Traceback (most recent call last):\n",
            "  File \"train.py\", line 31, in <module>\n",
            "    with open(FLAGS.data_flist[FLAGS.dataset][0]) as f:\n",
            "FileNotFoundError: [Errno 2] No such file or directory: 'data/celeba_hq/train_shuffled.flist'\n"
          ]
        }
      ]
    },
    {
      "cell_type": "code",
      "source": [
        "%cd /content/generative_inpainting"
      ],
      "metadata": {
        "colab": {
          "base_uri": "https://localhost:8080/"
        },
        "id": "t5KhjQafEe-_",
        "outputId": "36b5d027-5cfa-4013-a7ec-78137b68924d"
      },
      "execution_count": 7,
      "outputs": [
        {
          "output_type": "stream",
          "name": "stdout",
          "text": [
            "/content/generative_inpainting\n"
          ]
        }
      ]
    },
    {
      "cell_type": "code",
      "source": [
        "!python test.py --image /content/generative_inpainting/examples/places2/case6_input.png --mask /content/generative_inpainting/examples/places2/case6_mask.png --output /content/generative_inpainting/examples/output2.png --checkpoint model_logs"
      ],
      "metadata": {
        "colab": {
          "base_uri": "https://localhost:8080/"
        },
        "id": "la3uYdZkEMEc",
        "outputId": "0e511d97-6121-4d87-af74-df1838d4ab3b"
      },
      "execution_count": 8,
      "outputs": [
        {
          "output_type": "stream",
          "name": "stdout",
          "text": [
            "WARNING:tensorflow:\n",
            "The TensorFlow contrib module will not be included in TensorFlow 2.0.\n",
            "For more information, please see:\n",
            "  * https://github.com/tensorflow/community/blob/master/rfcs/20180907-contrib-sunset.md\n",
            "  * https://github.com/tensorflow/addons\n",
            "  * https://github.com/tensorflow/io (for I/O related ops)\n",
            "If you depend on functionality not listed there, please file an issue.\n",
            "\n",
            "WARNING:tensorflow:From /usr/local/lib/python3.7/dist-packages/neuralgym/ops/layers.py:142: The name tf.image.resize_bilinear is deprecated. Please use tf.compat.v1.image.resize_bilinear instead.\n",
            "\n",
            "WARNING:tensorflow:From /usr/local/lib/python3.7/dist-packages/neuralgym/callbacks/npz_model_loader.py:31: The name tf.get_variable_scope is deprecated. Please use tf.compat.v1.get_variable_scope instead.\n",
            "\n",
            "WARNING:tensorflow:From /usr/local/lib/python3.7/dist-packages/neuralgym/ops/gan_ops.py:138: The name tf.layers.Conv2D is deprecated. Please use tf.compat.v1.layers.Conv2D instead.\n",
            "\n",
            "---------------------------------- APP CONFIG ----------------------------------\n",
            "num_gpus_per_job: 1\n",
            "num_cpus_per_job: 4\n",
            "num_hosts_per_job: 1\n",
            "memory_per_job: 32\n",
            "gpu_type: nvidia-tesla-p100\n",
            "name: places2_gated_conv_v100\n",
            "model_restore: \n",
            "dataset: celebahq\n",
            "random_crop: False\n",
            "val: False\n",
            "log_dir: logs/full_model_celeba_hq_256\n",
            "gan: sngan\n",
            "gan_loss_alpha: 1\n",
            "gan_with_mask: True\n",
            "discounted_mask: True\n",
            "random_seed: False\n",
            "padding: SAME\n",
            "train_spe: 4000\n",
            "max_iters: 100000000\n",
            "viz_max_out: 10\n",
            "val_psteps: 2000\n",
            "data_flist: \n",
            "  celebahq: ['data/celeba_hq/train_shuffled.flist', 'data/celeba_hq/validation_static_view.flist']\n",
            "  celeba: ['data/celeba/train_shuffled.flist', 'data/celeba/validation_static_view.flist']\n",
            "  places2: ['data/places2/train_shuffled.flist', 'data/places2/validation_static_view.flist']\n",
            "  imagenet: ['data/imagenet/train_shuffled.flist', 'data/imagenet/validation_static_view.flist']\n",
            "static_view_size: 30\n",
            "img_shapes: [256, 256, 3]\n",
            "height: 128\n",
            "width: 128\n",
            "max_delta_height: 32\n",
            "max_delta_width: 32\n",
            "batch_size: 16\n",
            "vertical_margin: 0\n",
            "horizontal_margin: 0\n",
            "ae_loss: True\n",
            "l1_loss: True\n",
            "l1_loss_alpha: 1.0\n",
            "guided: False\n",
            "edge_threshold: 0.6\n",
            "--------------------------------------------------------------------------------\n",
            "Shape of image: (512, 680, 3)\n",
            "WARNING:tensorflow:From test.py:44: The name tf.ConfigProto is deprecated. Please use tf.compat.v1.ConfigProto instead.\n",
            "\n",
            "WARNING:tensorflow:From test.py:46: The name tf.Session is deprecated. Please use tf.compat.v1.Session instead.\n",
            "\n",
            "2022-08-10 02:08:58.453213: I tensorflow/core/platform/cpu_feature_guard.cc:142] Your CPU supports instructions that this TensorFlow binary was not compiled to use: AVX2 FMA\n",
            "2022-08-10 02:08:58.459170: I tensorflow/core/platform/profile_utils/cpu_utils.cc:94] CPU Frequency: 2200160000 Hz\n",
            "2022-08-10 02:08:58.459461: I tensorflow/compiler/xla/service/service.cc:168] XLA service 0x1b1f800 initialized for platform Host (this does not guarantee that XLA will be used). Devices:\n",
            "2022-08-10 02:08:58.459503: I tensorflow/compiler/xla/service/service.cc:176]   StreamExecutor device (0): Host, Default Version\n",
            "2022-08-10 02:08:58.484782: I tensorflow/stream_executor/platform/default/dso_loader.cc:44] Successfully opened dynamic library libcuda.so.1\n",
            "2022-08-10 02:08:58.551419: E tensorflow/stream_executor/cuda/cuda_driver.cc:318] failed call to cuInit: CUDA_ERROR_NO_DEVICE: no CUDA-capable device is detected\n",
            "2022-08-10 02:08:58.551538: I tensorflow/stream_executor/cuda/cuda_diagnostics.cc:156] kernel driver does not appear to be running on this host (4ff4dc32865c): /proc/driver/nvidia/version does not exist\n",
            "WARNING:tensorflow:From /content/generative_inpainting/inpaint_model.py:45: The name tf.variable_scope is deprecated. Please use tf.compat.v1.variable_scope instead.\n",
            "\n",
            "WARNING:tensorflow:From /content/generative_inpainting/inpaint_ops.py:48: conv2d (from tensorflow.python.layers.convolutional) is deprecated and will be removed in a future version.\n",
            "Instructions for updating:\n",
            "Use `tf.keras.layers.Conv2D` instead.\n",
            "WARNING:tensorflow:From /usr/local/lib/python3.7/dist-packages/tensorflow_core/python/layers/convolutional.py:424: Layer.apply (from tensorflow.python.keras.engine.base_layer) is deprecated and will be removed in a future version.\n",
            "Instructions for updating:\n",
            "Please use `layer.__call__` method instead.\n",
            "WARNING:tensorflow:From /content/generative_inpainting/inpaint_ops.py:252: The name tf.image.resize_nearest_neighbor is deprecated. Please use tf.compat.v1.image.resize_nearest_neighbor instead.\n",
            "\n",
            "WARNING:tensorflow:From /content/generative_inpainting/inpaint_ops.py:284: calling extract_image_patches (from tensorflow.python.ops.array_ops) with ksizes is deprecated and will be removed in a future version.\n",
            "Instructions for updating:\n",
            "ksizes is deprecated, use sizes instead\n",
            "WARNING:tensorflow:From /content/generative_inpainting/inpaint_ops.py:502: py_func (from tensorflow.python.ops.script_ops) is deprecated and will be removed in a future version.\n",
            "Instructions for updating:\n",
            "tf.py_func is deprecated in TF V2. Instead, there are two\n",
            "    options available in V2.\n",
            "    - tf.py_function takes a python function which manipulates tf eager\n",
            "    tensors instead of numpy arrays. It's easy to convert a tf eager tensor to\n",
            "    an ndarray (just call tensor.numpy()) but having access to eager tensors\n",
            "    means `tf.py_function`s can use accelerators such as GPUs as well as\n",
            "    being differentiable using a gradient tape.\n",
            "    - tf.numpy_function maintains the semantics of the deprecated tf.py_func\n",
            "    (it is not differentiable, and manipulates numpy arrays). It drops the\n",
            "    stateful argument making all functions stateful.\n",
            "    \n",
            "WARNING:tensorflow:From test.py:53: The name tf.get_collection is deprecated. Please use tf.compat.v1.get_collection instead.\n",
            "\n",
            "WARNING:tensorflow:From test.py:53: The name tf.GraphKeys is deprecated. Please use tf.compat.v1.GraphKeys instead.\n",
            "\n",
            "Traceback (most recent call last):\n",
            "  File \"test.py\", line 58, in <module>\n",
            "    var_value = tf.contrib.framework.load_variable(args.checkpoint_dir, from_name)\n",
            "  File \"/usr/local/lib/python3.7/dist-packages/tensorflow_core/contrib/framework/python/framework/checkpoint_utils.py\", line 80, in load_variable\n",
            "    reader = load_checkpoint(checkpoint_dir)\n",
            "  File \"/usr/local/lib/python3.7/dist-packages/tensorflow_core/contrib/framework/python/framework/checkpoint_utils.py\", line 64, in load_checkpoint\n",
            "    return train.NewCheckpointReader(filename)\n",
            "  File \"/usr/local/lib/python3.7/dist-packages/tensorflow_core/python/pywrap_tensorflow_internal.py\", line 873, in NewCheckpointReader\n",
            "    return CheckpointReader(compat.as_bytes(filepattern))\n",
            "  File \"/usr/local/lib/python3.7/dist-packages/tensorflow_core/python/pywrap_tensorflow_internal.py\", line 885, in __init__\n",
            "    this = _pywrap_tensorflow_internal.new_CheckpointReader(filename)\n",
            "tensorflow.python.framework.errors_impl.NotFoundError: Unsuccessful TensorSliceReader constructor: Failed to find any matching files for model_logs\n"
          ]
        }
      ]
    },
    {
      "cell_type": "code",
      "source": [
        "!python test.py --image /content/generative_inpainting/examples/places2/case1_raw.png --mask /content/generative_inpainting/examples/places2/case1_input.png --output examples/output3.png --checkpoint /content/generative_inpainting/model_logs\n"
      ],
      "metadata": {
        "colab": {
          "base_uri": "https://localhost:8080/"
        },
        "id": "riKVFey9xP-9",
        "outputId": "d3351ce6-d4b5-40d6-bfe5-66a32ac40691"
      },
      "execution_count": 18,
      "outputs": [
        {
          "output_type": "stream",
          "name": "stdout",
          "text": [
            "WARNING:tensorflow:\n",
            "The TensorFlow contrib module will not be included in TensorFlow 2.0.\n",
            "For more information, please see:\n",
            "  * https://github.com/tensorflow/community/blob/master/rfcs/20180907-contrib-sunset.md\n",
            "  * https://github.com/tensorflow/addons\n",
            "  * https://github.com/tensorflow/io (for I/O related ops)\n",
            "If you depend on functionality not listed there, please file an issue.\n",
            "\n",
            "WARNING:tensorflow:From /usr/local/lib/python3.7/dist-packages/neuralgym/ops/layers.py:142: The name tf.image.resize_bilinear is deprecated. Please use tf.compat.v1.image.resize_bilinear instead.\n",
            "\n",
            "WARNING:tensorflow:From /usr/local/lib/python3.7/dist-packages/neuralgym/callbacks/npz_model_loader.py:31: The name tf.get_variable_scope is deprecated. Please use tf.compat.v1.get_variable_scope instead.\n",
            "\n",
            "WARNING:tensorflow:From /usr/local/lib/python3.7/dist-packages/neuralgym/ops/gan_ops.py:138: The name tf.layers.Conv2D is deprecated. Please use tf.compat.v1.layers.Conv2D instead.\n",
            "\n",
            "---------------------------------- APP CONFIG ----------------------------------\n",
            "num_gpus_per_job: 1\n",
            "num_cpus_per_job: 4\n",
            "num_hosts_per_job: 1\n",
            "memory_per_job: 32\n",
            "gpu_type: nvidia-tesla-p100\n",
            "name: places2_gated_conv_v100\n",
            "model_restore: \n",
            "dataset: celebahq\n",
            "random_crop: False\n",
            "val: False\n",
            "log_dir: logs/full_model_celeba_hq_256\n",
            "gan: sngan\n",
            "gan_loss_alpha: 1\n",
            "gan_with_mask: True\n",
            "discounted_mask: True\n",
            "random_seed: False\n",
            "padding: SAME\n",
            "train_spe: 4000\n",
            "max_iters: 100000000\n",
            "viz_max_out: 10\n",
            "val_psteps: 2000\n",
            "data_flist: \n",
            "  celebahq: ['data/celeba_hq/train_shuffled.flist', 'data/celeba_hq/validation_static_view.flist']\n",
            "  celeba: ['data/celeba/train_shuffled.flist', 'data/celeba/validation_static_view.flist']\n",
            "  places2: ['data/places2/train_shuffled.flist', 'data/places2/validation_static_view.flist']\n",
            "  imagenet: ['data/imagenet/train_shuffled.flist', 'data/imagenet/validation_static_view.flist']\n",
            "static_view_size: 30\n",
            "img_shapes: [256, 256, 3]\n",
            "height: 128\n",
            "width: 128\n",
            "max_delta_height: 32\n",
            "max_delta_width: 32\n",
            "batch_size: 16\n",
            "vertical_margin: 0\n",
            "horizontal_margin: 0\n",
            "ae_loss: True\n",
            "l1_loss: True\n",
            "l1_loss_alpha: 1.0\n",
            "guided: False\n",
            "edge_threshold: 0.6\n",
            "--------------------------------------------------------------------------------\n",
            "Shape of image: (512, 680, 3)\n",
            "WARNING:tensorflow:From test.py:44: The name tf.ConfigProto is deprecated. Please use tf.compat.v1.ConfigProto instead.\n",
            "\n",
            "WARNING:tensorflow:From test.py:46: The name tf.Session is deprecated. Please use tf.compat.v1.Session instead.\n",
            "\n",
            "2022-08-10 04:26:31.919042: I tensorflow/core/platform/cpu_feature_guard.cc:142] Your CPU supports instructions that this TensorFlow binary was not compiled to use: AVX2 FMA\n",
            "2022-08-10 04:26:31.924475: I tensorflow/core/platform/profile_utils/cpu_utils.cc:94] CPU Frequency: 2200160000 Hz\n",
            "2022-08-10 04:26:31.924776: I tensorflow/compiler/xla/service/service.cc:168] XLA service 0x1b5d800 initialized for platform Host (this does not guarantee that XLA will be used). Devices:\n",
            "2022-08-10 04:26:31.924816: I tensorflow/compiler/xla/service/service.cc:176]   StreamExecutor device (0): Host, Default Version\n",
            "2022-08-10 04:26:31.926979: I tensorflow/stream_executor/platform/default/dso_loader.cc:44] Successfully opened dynamic library libcuda.so.1\n",
            "2022-08-10 04:26:31.936755: E tensorflow/stream_executor/cuda/cuda_driver.cc:318] failed call to cuInit: CUDA_ERROR_NO_DEVICE: no CUDA-capable device is detected\n",
            "2022-08-10 04:26:31.936804: I tensorflow/stream_executor/cuda/cuda_diagnostics.cc:156] kernel driver does not appear to be running on this host (4ff4dc32865c): /proc/driver/nvidia/version does not exist\n",
            "WARNING:tensorflow:From /content/generative_inpainting/inpaint_model.py:45: The name tf.variable_scope is deprecated. Please use tf.compat.v1.variable_scope instead.\n",
            "\n",
            "WARNING:tensorflow:From /content/generative_inpainting/inpaint_ops.py:48: conv2d (from tensorflow.python.layers.convolutional) is deprecated and will be removed in a future version.\n",
            "Instructions for updating:\n",
            "Use `tf.keras.layers.Conv2D` instead.\n",
            "WARNING:tensorflow:From /usr/local/lib/python3.7/dist-packages/tensorflow_core/python/layers/convolutional.py:424: Layer.apply (from tensorflow.python.keras.engine.base_layer) is deprecated and will be removed in a future version.\n",
            "Instructions for updating:\n",
            "Please use `layer.__call__` method instead.\n",
            "WARNING:tensorflow:From /content/generative_inpainting/inpaint_ops.py:252: The name tf.image.resize_nearest_neighbor is deprecated. Please use tf.compat.v1.image.resize_nearest_neighbor instead.\n",
            "\n",
            "WARNING:tensorflow:From /content/generative_inpainting/inpaint_ops.py:284: calling extract_image_patches (from tensorflow.python.ops.array_ops) with ksizes is deprecated and will be removed in a future version.\n",
            "Instructions for updating:\n",
            "ksizes is deprecated, use sizes instead\n",
            "WARNING:tensorflow:From /content/generative_inpainting/inpaint_ops.py:502: py_func (from tensorflow.python.ops.script_ops) is deprecated and will be removed in a future version.\n",
            "Instructions for updating:\n",
            "tf.py_func is deprecated in TF V2. Instead, there are two\n",
            "    options available in V2.\n",
            "    - tf.py_function takes a python function which manipulates tf eager\n",
            "    tensors instead of numpy arrays. It's easy to convert a tf eager tensor to\n",
            "    an ndarray (just call tensor.numpy()) but having access to eager tensors\n",
            "    means `tf.py_function`s can use accelerators such as GPUs as well as\n",
            "    being differentiable using a gradient tape.\n",
            "    - tf.numpy_function maintains the semantics of the deprecated tf.py_func\n",
            "    (it is not differentiable, and manipulates numpy arrays). It drops the\n",
            "    stateful argument making all functions stateful.\n",
            "    \n",
            "WARNING:tensorflow:From test.py:53: The name tf.get_collection is deprecated. Please use tf.compat.v1.get_collection instead.\n",
            "\n",
            "WARNING:tensorflow:From test.py:53: The name tf.GraphKeys is deprecated. Please use tf.compat.v1.GraphKeys instead.\n",
            "\n",
            "WARNING:tensorflow:From test.py:59: The name tf.assign is deprecated. Please use tf.compat.v1.assign instead.\n",
            "\n",
            "Model loaded.\n"
          ]
        }
      ]
    }
  ]
}